{
 "cells": [
  {
   "cell_type": "code",
   "execution_count": 21,
   "metadata": {},
   "outputs": [],
   "source": [
    "from redis.cluster import RedisCluster as Redis\n",
    "from redis.cluster import ClusterNode"
   ]
  },
  {
   "cell_type": "code",
   "execution_count": 30,
   "metadata": {},
   "outputs": [],
   "source": [
    "ips = ['52.64.59.244','13.238.117.47','54.153.181.28','3.106.244.91','13.239.27.30','13.236.167.135']\n",
    "# node = [ClusterNode(i,7000) for n,i in enumerate(ips)]\n",
    "# ips = [i+\":7000\" for i in ips]"
   ]
  },
  {
   "cell_type": "code",
   "execution_count": 29,
   "metadata": {},
   "outputs": [],
   "source": [
    "# addresses = [i+\":7000\" for i in ips]\n",
    "# command = ' '.join(addresses)\n",
    "# command = f\"redis-cli --cluster create {command} --cluster-replicas 1\"\n",
    "# command"
   ]
  },
  {
   "cell_type": "code",
   "execution_count": 36,
   "metadata": {},
   "outputs": [],
   "source": [
    "rc = Redis(host = ips[0],port=7000)\n"
   ]
  },
  {
   "cell_type": "code",
   "execution_count": 37,
   "metadata": {},
   "outputs": [
    {
     "data": {
      "text/plain": [
       "[[host=52.64.59.244,port=7000,name=52.64.59.244:7000,server_type=primary,redis_connection=Redis<ConnectionPool<Connection<host=52.64.59.244,port=7000,db=0>>>],\n",
       " [host=172.31.1.40,port=7000,name=172.31.1.40:7000,server_type=replica,redis_connection=Redis<ConnectionPool<Connection<host=172.31.1.40,port=7000,db=0>>>],\n",
       " [host=3.25.70.162,port=7000,name=3.25.70.162:7000,server_type=replica,redis_connection=Redis<ConnectionPool<Connection<host=3.25.70.162,port=7000,db=0>>>],\n",
       " [host=13.238.117.47,port=7000,name=13.238.117.47:7000,server_type=primary,redis_connection=Redis<ConnectionPool<Connection<host=13.238.117.47,port=7000,db=0>>>],\n",
       " [host=13.236.167.135,port=7000,name=13.236.167.135:7000,server_type=replica,redis_connection=Redis<ConnectionPool<Connection<host=13.236.167.135,port=7000,db=0>>>],\n",
       " [host=54.153.181.28,port=7000,name=54.153.181.28:7000,server_type=primary,redis_connection=Redis<ConnectionPool<Connection<host=54.153.181.28,port=7000,db=0>>>],\n",
       " [host=3.106.244.91,port=7000,name=3.106.244.91:7000,server_type=replica,redis_connection=Redis<ConnectionPool<Connection<host=3.106.244.91,port=7000,db=0>>>],\n",
       " [host=54.206.244.98,port=7000,name=54.206.244.98:7000,server_type=replica,redis_connection=Redis<ConnectionPool<Connection<host=54.206.244.98,port=7000,db=0>>>]]"
      ]
     },
     "execution_count": 37,
     "metadata": {},
     "output_type": "execute_result"
    }
   ],
   "source": [
    "rc.get_nodes()"
   ]
  },
  {
   "cell_type": "code",
   "execution_count": 42,
   "metadata": {},
   "outputs": [],
   "source": [
    "for i in range(100):\n",
    "    rc.set(f\"key{i}\",i)"
   ]
  },
  {
   "cell_type": "code",
   "execution_count": 43,
   "metadata": {},
   "outputs": [
    {
     "name": "stdout",
     "output_type": "stream",
     "text": [
      "key0: b'0'\n",
      "key1: b'1'\n",
      "key2: b'2'\n",
      "key3: b'3'\n",
      "key4: b'4'\n",
      "key5: b'5'\n",
      "key6: b'6'\n",
      "key7: b'7'\n",
      "key8: b'8'\n",
      "key9: b'9'\n"
     ]
    }
   ],
   "source": [
    "for i in range(10):\n",
    "    ans = rc.get(f\"key{i}\")\n",
    "    print(f\"key{i}: {ans}\")"
   ]
  },
  {
   "cell_type": "code",
   "execution_count": null,
   "metadata": {},
   "outputs": [],
   "source": []
  }
 ],
 "metadata": {
  "kernelspec": {
   "display_name": "base",
   "language": "python",
   "name": "python3"
  },
  "language_info": {
   "codemirror_mode": {
    "name": "ipython",
    "version": 3
   },
   "file_extension": ".py",
   "mimetype": "text/x-python",
   "name": "python",
   "nbconvert_exporter": "python",
   "pygments_lexer": "ipython3",
   "version": "3.8.5"
  }
 },
 "nbformat": 4,
 "nbformat_minor": 2
}
